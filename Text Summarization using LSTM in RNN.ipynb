{
  "nbformat": 4,
  "nbformat_minor": 0,
  "metadata": {
    "colab": {
      "provenance": []
    },
    "kernelspec": {
      "name": "python3",
      "display_name": "Python 3"
    },
    "language_info": {
      "name": "python"
    }
  },
  "cells": [
    {
      "cell_type": "code",
      "execution_count": 1,
      "metadata": {
        "id": "_nYZpZx1sPET"
      },
      "outputs": [],
      "source": [
        "#import all libraries\n",
        "import tensorflow as tf\n",
        "from tensorflow.keras.models import Model, load_model\n",
        "from tensorflow.keras.layers import *\n",
        "from keras.preprocessing.text import Tokenizer\n",
        "from tensorflow.keras.preprocessing.sequence import pad_sequences\n",
        "from tensorflow.keras.callbacks import EarlyStopping, ReduceLROnPlateau\n",
        "import warnings\n",
        "from nltk.corpus import stopwords\n",
        "import numpy as np\n",
        "import pandas as pd\n",
        "import re\n",
        "from sklearn.model_selection import train_test_split as tts\n",
        "from bs4 import BeautifulSoup\n",
        "from attention import AttentionLayer\n",
        "import matplotlib.pyplot as plt\n",
        "import pickle"
      ]
    },
    {
      "cell_type": "code",
      "source": [
        "#Avoid OOM errors by setting GPU Memory Consumption Growth\n",
        "gpus = tf.config.experimental.list_physical_devices('GPU')\n",
        "for gpu in gpus:\n",
        "    tf.config.experimental.set_memory_growth(gpu, True)"
      ],
      "metadata": {
        "id": "wCuCJhVMs81u"
      },
      "execution_count": 2,
      "outputs": []
    },
    {
      "cell_type": "code",
      "source": [
        "import nltk\n",
        "nltk.download('stopwords')\n",
        "stop_words = set(stopwords.words('english'))"
      ],
      "metadata": {
        "colab": {
          "base_uri": "https://localhost:8080/"
        },
        "id": "VEFp21Uytg_b",
        "outputId": "5e262bf8-7b6a-47e2-e9e0-319de1838432"
      },
      "execution_count": 3,
      "outputs": [
        {
          "output_type": "stream",
          "name": "stderr",
          "text": [
            "[nltk_data] Downloading package stopwords to /root/nltk_data...\n",
            "[nltk_data]   Unzipping corpora/stopwords.zip.\n"
          ]
        }
      ]
    },
    {
      "cell_type": "code",
      "source": [
        "pd.set_option(\"display.max_colwidth\", 200)\n",
        "warnings.filterwarnings(\"ignore\")"
      ],
      "metadata": {
        "id": "qibkOf9dtpsn"
      },
      "execution_count": 4,
      "outputs": []
    },
    {
      "cell_type": "code",
      "source": [
        "#load the data\n",
        "df = pd.read_csv(\"/content/Reviews.csv\", nrows=250000)"
      ],
      "metadata": {
        "id": "IhDNmhh4t4Cc"
      },
      "execution_count": 5,
      "outputs": []
    },
    {
      "cell_type": "code",
      "source": [
        "df.head()"
      ],
      "metadata": {
        "colab": {
          "base_uri": "https://localhost:8080/",
          "height": 362
        },
        "id": "B5J5UekLt9NS",
        "outputId": "fac84fd2-3f1e-4692-af5e-5ac1988427f3"
      },
      "execution_count": 6,
      "outputs": [
        {
          "output_type": "execute_result",
          "data": {
            "text/plain": [
              "   Id   ProductId          UserId                      ProfileName  \\\n",
              "0   1  B001E4KFG0  A3SGXH7AUHU8GW                       delmartian   \n",
              "1   2  B00813GRG4  A1D87F6ZCVE5NK                           dll pa   \n",
              "2   3  B000LQOCH0   ABXLMWJIXXAIN  Natalia Corres \"Natalia Corres\"   \n",
              "3   4  B000UA0QIQ  A395BORC6FGVXV                             Karl   \n",
              "4   5  B006K2ZZ7K  A1UQRSCLF8GW1T    Michael D. Bigham \"M. Wassir\"   \n",
              "\n",
              "   HelpfulnessNumerator  HelpfulnessDenominator  Score        Time  \\\n",
              "0                     1                       1      5  1303862400   \n",
              "1                     0                       0      1  1346976000   \n",
              "2                     1                       1      4  1219017600   \n",
              "3                     3                       3      2  1307923200   \n",
              "4                     0                       0      5  1350777600   \n",
              "\n",
              "                 Summary  \\\n",
              "0  Good Quality Dog Food   \n",
              "1      Not as Advertised   \n",
              "2  \"Delight\" says it all   \n",
              "3         Cough Medicine   \n",
              "4            Great taffy   \n",
              "\n",
              "                                                                                                                                                                                                      Text  \n",
              "0  I have bought several of the Vitality canned dog food products and have found them all to be of good quality. The product looks more like a stew than a processed meat and it smells better. My Labr...  \n",
              "1           Product arrived labeled as Jumbo Salted Peanuts...the peanuts were actually small sized unsalted. Not sure if this was an error or if the vendor intended to represent the product as \"Jumbo\".  \n",
              "2  This is a confection that has been around a few centuries.  It is a light, pillowy citrus gelatin with nuts - in this case Filberts. And it is cut into tiny squares and then liberally coated with ...  \n",
              "3  If you are looking for the secret ingredient in Robitussin I believe I have found it.  I got this in addition to the Root Beer Extract I ordered (which was good) and made some cherry soda.  The fl...  \n",
              "4                                                             Great taffy at a great price.  There was a wide assortment of yummy taffy.  Delivery was very quick.  If your a taffy lover, this is a deal.  "
            ],
            "text/html": [
              "\n",
              "  <div id=\"df-a744e830-f611-4be2-8492-5cb7347e397c\" class=\"colab-df-container\">\n",
              "    <div>\n",
              "<style scoped>\n",
              "    .dataframe tbody tr th:only-of-type {\n",
              "        vertical-align: middle;\n",
              "    }\n",
              "\n",
              "    .dataframe tbody tr th {\n",
              "        vertical-align: top;\n",
              "    }\n",
              "\n",
              "    .dataframe thead th {\n",
              "        text-align: right;\n",
              "    }\n",
              "</style>\n",
              "<table border=\"1\" class=\"dataframe\">\n",
              "  <thead>\n",
              "    <tr style=\"text-align: right;\">\n",
              "      <th></th>\n",
              "      <th>Id</th>\n",
              "      <th>ProductId</th>\n",
              "      <th>UserId</th>\n",
              "      <th>ProfileName</th>\n",
              "      <th>HelpfulnessNumerator</th>\n",
              "      <th>HelpfulnessDenominator</th>\n",
              "      <th>Score</th>\n",
              "      <th>Time</th>\n",
              "      <th>Summary</th>\n",
              "      <th>Text</th>\n",
              "    </tr>\n",
              "  </thead>\n",
              "  <tbody>\n",
              "    <tr>\n",
              "      <th>0</th>\n",
              "      <td>1</td>\n",
              "      <td>B001E4KFG0</td>\n",
              "      <td>A3SGXH7AUHU8GW</td>\n",
              "      <td>delmartian</td>\n",
              "      <td>1</td>\n",
              "      <td>1</td>\n",
              "      <td>5</td>\n",
              "      <td>1303862400</td>\n",
              "      <td>Good Quality Dog Food</td>\n",
              "      <td>I have bought several of the Vitality canned dog food products and have found them all to be of good quality. The product looks more like a stew than a processed meat and it smells better. My Labr...</td>\n",
              "    </tr>\n",
              "    <tr>\n",
              "      <th>1</th>\n",
              "      <td>2</td>\n",
              "      <td>B00813GRG4</td>\n",
              "      <td>A1D87F6ZCVE5NK</td>\n",
              "      <td>dll pa</td>\n",
              "      <td>0</td>\n",
              "      <td>0</td>\n",
              "      <td>1</td>\n",
              "      <td>1346976000</td>\n",
              "      <td>Not as Advertised</td>\n",
              "      <td>Product arrived labeled as Jumbo Salted Peanuts...the peanuts were actually small sized unsalted. Not sure if this was an error or if the vendor intended to represent the product as \"Jumbo\".</td>\n",
              "    </tr>\n",
              "    <tr>\n",
              "      <th>2</th>\n",
              "      <td>3</td>\n",
              "      <td>B000LQOCH0</td>\n",
              "      <td>ABXLMWJIXXAIN</td>\n",
              "      <td>Natalia Corres \"Natalia Corres\"</td>\n",
              "      <td>1</td>\n",
              "      <td>1</td>\n",
              "      <td>4</td>\n",
              "      <td>1219017600</td>\n",
              "      <td>\"Delight\" says it all</td>\n",
              "      <td>This is a confection that has been around a few centuries.  It is a light, pillowy citrus gelatin with nuts - in this case Filberts. And it is cut into tiny squares and then liberally coated with ...</td>\n",
              "    </tr>\n",
              "    <tr>\n",
              "      <th>3</th>\n",
              "      <td>4</td>\n",
              "      <td>B000UA0QIQ</td>\n",
              "      <td>A395BORC6FGVXV</td>\n",
              "      <td>Karl</td>\n",
              "      <td>3</td>\n",
              "      <td>3</td>\n",
              "      <td>2</td>\n",
              "      <td>1307923200</td>\n",
              "      <td>Cough Medicine</td>\n",
              "      <td>If you are looking for the secret ingredient in Robitussin I believe I have found it.  I got this in addition to the Root Beer Extract I ordered (which was good) and made some cherry soda.  The fl...</td>\n",
              "    </tr>\n",
              "    <tr>\n",
              "      <th>4</th>\n",
              "      <td>5</td>\n",
              "      <td>B006K2ZZ7K</td>\n",
              "      <td>A1UQRSCLF8GW1T</td>\n",
              "      <td>Michael D. Bigham \"M. Wassir\"</td>\n",
              "      <td>0</td>\n",
              "      <td>0</td>\n",
              "      <td>5</td>\n",
              "      <td>1350777600</td>\n",
              "      <td>Great taffy</td>\n",
              "      <td>Great taffy at a great price.  There was a wide assortment of yummy taffy.  Delivery was very quick.  If your a taffy lover, this is a deal.</td>\n",
              "    </tr>\n",
              "  </tbody>\n",
              "</table>\n",
              "</div>\n",
              "    <div class=\"colab-df-buttons\">\n",
              "\n",
              "  <div class=\"colab-df-container\">\n",
              "    <button class=\"colab-df-convert\" onclick=\"convertToInteractive('df-a744e830-f611-4be2-8492-5cb7347e397c')\"\n",
              "            title=\"Convert this dataframe to an interactive table.\"\n",
              "            style=\"display:none;\">\n",
              "\n",
              "  <svg xmlns=\"http://www.w3.org/2000/svg\" height=\"24px\" viewBox=\"0 -960 960 960\">\n",
              "    <path d=\"M120-120v-720h720v720H120Zm60-500h600v-160H180v160Zm220 220h160v-160H400v160Zm0 220h160v-160H400v160ZM180-400h160v-160H180v160Zm440 0h160v-160H620v160ZM180-180h160v-160H180v160Zm440 0h160v-160H620v160Z\"/>\n",
              "  </svg>\n",
              "    </button>\n",
              "\n",
              "  <style>\n",
              "    .colab-df-container {\n",
              "      display:flex;\n",
              "      gap: 12px;\n",
              "    }\n",
              "\n",
              "    .colab-df-convert {\n",
              "      background-color: #E8F0FE;\n",
              "      border: none;\n",
              "      border-radius: 50%;\n",
              "      cursor: pointer;\n",
              "      display: none;\n",
              "      fill: #1967D2;\n",
              "      height: 32px;\n",
              "      padding: 0 0 0 0;\n",
              "      width: 32px;\n",
              "    }\n",
              "\n",
              "    .colab-df-convert:hover {\n",
              "      background-color: #E2EBFA;\n",
              "      box-shadow: 0px 1px 2px rgba(60, 64, 67, 0.3), 0px 1px 3px 1px rgba(60, 64, 67, 0.15);\n",
              "      fill: #174EA6;\n",
              "    }\n",
              "\n",
              "    .colab-df-buttons div {\n",
              "      margin-bottom: 4px;\n",
              "    }\n",
              "\n",
              "    [theme=dark] .colab-df-convert {\n",
              "      background-color: #3B4455;\n",
              "      fill: #D2E3FC;\n",
              "    }\n",
              "\n",
              "    [theme=dark] .colab-df-convert:hover {\n",
              "      background-color: #434B5C;\n",
              "      box-shadow: 0px 1px 3px 1px rgba(0, 0, 0, 0.15);\n",
              "      filter: drop-shadow(0px 1px 2px rgba(0, 0, 0, 0.3));\n",
              "      fill: #FFFFFF;\n",
              "    }\n",
              "  </style>\n",
              "\n",
              "    <script>\n",
              "      const buttonEl =\n",
              "        document.querySelector('#df-a744e830-f611-4be2-8492-5cb7347e397c button.colab-df-convert');\n",
              "      buttonEl.style.display =\n",
              "        google.colab.kernel.accessAllowed ? 'block' : 'none';\n",
              "\n",
              "      async function convertToInteractive(key) {\n",
              "        const element = document.querySelector('#df-a744e830-f611-4be2-8492-5cb7347e397c');\n",
              "        const dataTable =\n",
              "          await google.colab.kernel.invokeFunction('convertToInteractive',\n",
              "                                                    [key], {});\n",
              "        if (!dataTable) return;\n",
              "\n",
              "        const docLinkHtml = 'Like what you see? Visit the ' +\n",
              "          '<a target=\"_blank\" href=https://colab.research.google.com/notebooks/data_table.ipynb>data table notebook</a>'\n",
              "          + ' to learn more about interactive tables.';\n",
              "        element.innerHTML = '';\n",
              "        dataTable['output_type'] = 'display_data';\n",
              "        await google.colab.output.renderOutput(dataTable, element);\n",
              "        const docLink = document.createElement('div');\n",
              "        docLink.innerHTML = docLinkHtml;\n",
              "        element.appendChild(docLink);\n",
              "      }\n",
              "    </script>\n",
              "  </div>\n",
              "\n",
              "\n",
              "<div id=\"df-ad7f5f79-d209-4a94-9b05-7dfbff31d534\">\n",
              "  <button class=\"colab-df-quickchart\" onclick=\"quickchart('df-ad7f5f79-d209-4a94-9b05-7dfbff31d534')\"\n",
              "            title=\"Suggest charts\"\n",
              "            style=\"display:none;\">\n",
              "\n",
              "<svg xmlns=\"http://www.w3.org/2000/svg\" height=\"24px\"viewBox=\"0 0 24 24\"\n",
              "     width=\"24px\">\n",
              "    <g>\n",
              "        <path d=\"M19 3H5c-1.1 0-2 .9-2 2v14c0 1.1.9 2 2 2h14c1.1 0 2-.9 2-2V5c0-1.1-.9-2-2-2zM9 17H7v-7h2v7zm4 0h-2V7h2v10zm4 0h-2v-4h2v4z\"/>\n",
              "    </g>\n",
              "</svg>\n",
              "  </button>\n",
              "\n",
              "<style>\n",
              "  .colab-df-quickchart {\n",
              "      --bg-color: #E8F0FE;\n",
              "      --fill-color: #1967D2;\n",
              "      --hover-bg-color: #E2EBFA;\n",
              "      --hover-fill-color: #174EA6;\n",
              "      --disabled-fill-color: #AAA;\n",
              "      --disabled-bg-color: #DDD;\n",
              "  }\n",
              "\n",
              "  [theme=dark] .colab-df-quickchart {\n",
              "      --bg-color: #3B4455;\n",
              "      --fill-color: #D2E3FC;\n",
              "      --hover-bg-color: #434B5C;\n",
              "      --hover-fill-color: #FFFFFF;\n",
              "      --disabled-bg-color: #3B4455;\n",
              "      --disabled-fill-color: #666;\n",
              "  }\n",
              "\n",
              "  .colab-df-quickchart {\n",
              "    background-color: var(--bg-color);\n",
              "    border: none;\n",
              "    border-radius: 50%;\n",
              "    cursor: pointer;\n",
              "    display: none;\n",
              "    fill: var(--fill-color);\n",
              "    height: 32px;\n",
              "    padding: 0;\n",
              "    width: 32px;\n",
              "  }\n",
              "\n",
              "  .colab-df-quickchart:hover {\n",
              "    background-color: var(--hover-bg-color);\n",
              "    box-shadow: 0 1px 2px rgba(60, 64, 67, 0.3), 0 1px 3px 1px rgba(60, 64, 67, 0.15);\n",
              "    fill: var(--button-hover-fill-color);\n",
              "  }\n",
              "\n",
              "  .colab-df-quickchart-complete:disabled,\n",
              "  .colab-df-quickchart-complete:disabled:hover {\n",
              "    background-color: var(--disabled-bg-color);\n",
              "    fill: var(--disabled-fill-color);\n",
              "    box-shadow: none;\n",
              "  }\n",
              "\n",
              "  .colab-df-spinner {\n",
              "    border: 2px solid var(--fill-color);\n",
              "    border-color: transparent;\n",
              "    border-bottom-color: var(--fill-color);\n",
              "    animation:\n",
              "      spin 1s steps(1) infinite;\n",
              "  }\n",
              "\n",
              "  @keyframes spin {\n",
              "    0% {\n",
              "      border-color: transparent;\n",
              "      border-bottom-color: var(--fill-color);\n",
              "      border-left-color: var(--fill-color);\n",
              "    }\n",
              "    20% {\n",
              "      border-color: transparent;\n",
              "      border-left-color: var(--fill-color);\n",
              "      border-top-color: var(--fill-color);\n",
              "    }\n",
              "    30% {\n",
              "      border-color: transparent;\n",
              "      border-left-color: var(--fill-color);\n",
              "      border-top-color: var(--fill-color);\n",
              "      border-right-color: var(--fill-color);\n",
              "    }\n",
              "    40% {\n",
              "      border-color: transparent;\n",
              "      border-right-color: var(--fill-color);\n",
              "      border-top-color: var(--fill-color);\n",
              "    }\n",
              "    60% {\n",
              "      border-color: transparent;\n",
              "      border-right-color: var(--fill-color);\n",
              "    }\n",
              "    80% {\n",
              "      border-color: transparent;\n",
              "      border-right-color: var(--fill-color);\n",
              "      border-bottom-color: var(--fill-color);\n",
              "    }\n",
              "    90% {\n",
              "      border-color: transparent;\n",
              "      border-bottom-color: var(--fill-color);\n",
              "    }\n",
              "  }\n",
              "</style>\n",
              "\n",
              "  <script>\n",
              "    async function quickchart(key) {\n",
              "      const quickchartButtonEl =\n",
              "        document.querySelector('#' + key + ' button');\n",
              "      quickchartButtonEl.disabled = true;  // To prevent multiple clicks.\n",
              "      quickchartButtonEl.classList.add('colab-df-spinner');\n",
              "      try {\n",
              "        const charts = await google.colab.kernel.invokeFunction(\n",
              "            'suggestCharts', [key], {});\n",
              "      } catch (error) {\n",
              "        console.error('Error during call to suggestCharts:', error);\n",
              "      }\n",
              "      quickchartButtonEl.classList.remove('colab-df-spinner');\n",
              "      quickchartButtonEl.classList.add('colab-df-quickchart-complete');\n",
              "    }\n",
              "    (() => {\n",
              "      let quickchartButtonEl =\n",
              "        document.querySelector('#df-ad7f5f79-d209-4a94-9b05-7dfbff31d534 button');\n",
              "      quickchartButtonEl.style.display =\n",
              "        google.colab.kernel.accessAllowed ? 'block' : 'none';\n",
              "    })();\n",
              "  </script>\n",
              "</div>\n",
              "\n",
              "    </div>\n",
              "  </div>\n"
            ],
            "application/vnd.google.colaboratory.intrinsic+json": {
              "type": "dataframe",
              "variable_name": "df",
              "summary": "{\n  \"name\": \"df\",\n  \"rows\": 6263,\n  \"fields\": [\n    {\n      \"column\": \"Id\",\n      \"properties\": {\n        \"dtype\": \"number\",\n        \"std\": 1808,\n        \"min\": 1,\n        \"max\": 6263,\n        \"num_unique_values\": 6263,\n        \"samples\": [\n          2305,\n          3622,\n          5225\n        ],\n        \"semantic_type\": \"\",\n        \"description\": \"\"\n      }\n    },\n    {\n      \"column\": \"ProductId\",\n      \"properties\": {\n        \"dtype\": \"category\",\n        \"num_unique_values\": 997,\n        \"samples\": [\n          \"B002HQKRIK\",\n          \"B004LQT0JG\",\n          \"B006GK4XVA\"\n        ],\n        \"semantic_type\": \"\",\n        \"description\": \"\"\n      }\n    },\n    {\n      \"column\": \"UserId\",\n      \"properties\": {\n        \"dtype\": \"string\",\n        \"num_unique_values\": 5994,\n        \"samples\": [\n          \"A1C760KGFSRI6F\",\n          \"AC5L3IAZO1W07\",\n          \"AVFDH06FF7CGM\"\n        ],\n        \"semantic_type\": \"\",\n        \"description\": \"\"\n      }\n    },\n    {\n      \"column\": \"ProfileName\",\n      \"properties\": {\n        \"dtype\": \"string\",\n        \"num_unique_values\": 5821,\n        \"samples\": [\n          \"Mye\",\n          \"Howard M.\",\n          \"Rob Kaufman\"\n        ],\n        \"semantic_type\": \"\",\n        \"description\": \"\"\n      }\n    },\n    {\n      \"column\": \"HelpfulnessNumerator\",\n      \"properties\": {\n        \"dtype\": \"number\",\n        \"std\": 5,\n        \"min\": 0,\n        \"max\": 187,\n        \"num_unique_values\": 49,\n        \"samples\": [\n          7,\n          70,\n          48\n        ],\n        \"semantic_type\": \"\",\n        \"description\": \"\"\n      }\n    },\n    {\n      \"column\": \"HelpfulnessDenominator\",\n      \"properties\": {\n        \"dtype\": \"number\",\n        \"std\": 6,\n        \"min\": 0,\n        \"max\": 216,\n        \"num_unique_values\": 52,\n        \"samples\": [\n          11,\n          51,\n          42\n        ],\n        \"semantic_type\": \"\",\n        \"description\": \"\"\n      }\n    },\n    {\n      \"column\": \"Score\",\n      \"properties\": {\n        \"dtype\": \"number\",\n        \"std\": 1,\n        \"min\": 1,\n        \"max\": 5,\n        \"num_unique_values\": 5,\n        \"samples\": [\n          1,\n          3,\n          4\n        ],\n        \"semantic_type\": \"\",\n        \"description\": \"\"\n      }\n    },\n    {\n      \"column\": \"Time\",\n      \"properties\": {\n        \"dtype\": \"number\",\n        \"std\": 47703843,\n        \"min\": 961718400,\n        \"max\": 1351209600,\n        \"num_unique_values\": 1744,\n        \"samples\": [\n          1297641600,\n          1280188800,\n          1173312000\n        ],\n        \"semantic_type\": \"\",\n        \"description\": \"\"\n      }\n    },\n    {\n      \"column\": \"Summary\",\n      \"properties\": {\n        \"dtype\": \"string\",\n        \"num_unique_values\": 5672,\n        \"samples\": [\n          \"Mini Lollipops\",\n          \"Eco sugar\",\n          \"Pop Chips...Yummy!\"\n        ],\n        \"semantic_type\": \"\",\n        \"description\": \"\"\n      }\n    },\n    {\n      \"column\": \"Text\",\n      \"properties\": {\n        \"dtype\": \"string\",\n        \"num_unique_values\": 6239,\n        \"samples\": [\n          \"This product tastes like muddy water maybe because it is out of date!?!  I don't know but I'll not buy this again.\",\n          \"These chips are incredible! Enough can't be said about them. They are better than potato chips and without the guilt of fat and calories!\",\n          \"I looked forward to a delicious hot cocoa, but was very disappointed with the flavor. It has an awful aftertaste, like the taste you get after drinking a bad diet soda. Also kind of weak, even on the smallest cup setting.\"\n        ],\n        \"semantic_type\": \"\",\n        \"description\": \"\"\n      }\n    }\n  ]\n}"
            }
          },
          "metadata": {},
          "execution_count": 6
        }
      ]
    },
    {
      "cell_type": "code",
      "source": [
        "#Drop Duplicates and NAs\n",
        "df.drop_duplicates(subset=['Text'],inplace=True)\n",
        "df.dropna(axis=0,inplace=True)"
      ],
      "metadata": {
        "id": "JJW8dKh3uARq"
      },
      "execution_count": 7,
      "outputs": []
    },
    {
      "cell_type": "code",
      "source": [
        "df.info()"
      ],
      "metadata": {
        "colab": {
          "base_uri": "https://localhost:8080/"
        },
        "id": "Zh7RD6L2uEFb",
        "outputId": "b0a5e584-a97b-4ec4-ab5b-c4c00cec7d2e"
      },
      "execution_count": 8,
      "outputs": [
        {
          "output_type": "stream",
          "name": "stdout",
          "text": [
            "<class 'pandas.core.frame.DataFrame'>\n",
            "Int64Index: 6239 entries, 0 to 6261\n",
            "Data columns (total 10 columns):\n",
            " #   Column                  Non-Null Count  Dtype \n",
            "---  ------                  --------------  ----- \n",
            " 0   Id                      6239 non-null   int64 \n",
            " 1   ProductId               6239 non-null   object\n",
            " 2   UserId                  6239 non-null   object\n",
            " 3   ProfileName             6239 non-null   object\n",
            " 4   HelpfulnessNumerator    6239 non-null   int64 \n",
            " 5   HelpfulnessDenominator  6239 non-null   int64 \n",
            " 6   Score                   6239 non-null   int64 \n",
            " 7   Time                    6239 non-null   int64 \n",
            " 8   Summary                 6239 non-null   object\n",
            " 9   Text                    6239 non-null   object\n",
            "dtypes: int64(5), object(5)\n",
            "memory usage: 536.2+ KB\n"
          ]
        }
      ]
    },
    {
      "cell_type": "code",
      "source": [
        "#Preprocessing\n",
        "#Text Cleaning\n",
        "#define a dictionary for contracition mapping\n",
        "contraction_mapping = {\"ain't\": \"is not\", \"aren't\": \"are not\",\"can't\": \"cannot\", \"'cause\": \"because\", \"could've\": \"could have\", \"couldn't\": \"could not\",\n",
        "                           \"didn't\": \"did not\",  \"doesn't\": \"does not\", \"don't\": \"do not\", \"hadn't\": \"had not\", \"hasn't\": \"has not\", \"haven't\": \"have not\",\n",
        "                           \"he'd\": \"he would\",\"he'll\": \"he will\", \"he's\": \"he is\", \"how'd\": \"how did\", \"how'd'y\": \"how do you\", \"how'll\": \"how will\", \"how's\": \"how is\",\n",
        "                           \"I'd\": \"I would\", \"I'd've\": \"I would have\", \"I'll\": \"I will\", \"I'll've\": \"I will have\",\"I'm\": \"I am\", \"I've\": \"I have\", \"i'd\": \"i would\",\n",
        "                           \"i'd've\": \"i would have\", \"i'll\": \"i will\",  \"i'll've\": \"i will have\",\"i'm\": \"i am\", \"i've\": \"i have\", \"isn't\": \"is not\", \"it'd\": \"it would\",\n",
        "                           \"it'd've\": \"it would have\", \"it'll\": \"it will\", \"it'll've\": \"it will have\",\"it's\": \"it is\", \"let's\": \"let us\", \"ma'am\": \"madam\",\n",
        "                           \"mayn't\": \"may not\", \"might've\": \"might have\",\"mightn't\": \"might not\",\"mightn't've\": \"might not have\", \"must've\": \"must have\",\n",
        "                           \"mustn't\": \"must not\", \"mustn't've\": \"must not have\", \"needn't\": \"need not\", \"needn't've\": \"need not have\",\"o'clock\": \"of the clock\",\n",
        "                           \"oughtn't\": \"ought not\", \"oughtn't've\": \"ought not have\", \"shan't\": \"shall not\", \"sha'n't\": \"shall not\", \"shan't've\": \"shall not have\",\n",
        "                           \"she'd\": \"she would\", \"she'd've\": \"she would have\", \"she'll\": \"she will\", \"she'll've\": \"she will have\", \"she's\": \"she is\",\n",
        "                           \"should've\": \"should have\", \"shouldn't\": \"should not\", \"shouldn't've\": \"should not have\", \"so've\": \"so have\",\"so's\": \"so as\",\n",
        "                           \"this's\": \"this is\",\"that'd\": \"that would\", \"that'd've\": \"that would have\", \"that's\": \"that is\", \"there'd\": \"there would\",\n",
        "                           \"there'd've\": \"there would have\", \"there's\": \"there is\", \"here's\": \"here is\",\"they'd\": \"they would\", \"they'd've\": \"they would have\",\n",
        "                           \"they'll\": \"they will\", \"they'll've\": \"they will have\", \"they're\": \"they are\", \"they've\": \"they have\", \"to've\": \"to have\",\n",
        "                           \"wasn't\": \"was not\", \"we'd\": \"we would\", \"we'd've\": \"we would have\", \"we'll\": \"we will\", \"we'll've\": \"we will have\", \"we're\": \"we are\",\n",
        "                           \"we've\": \"we have\", \"weren't\": \"were not\", \"what'll\": \"what will\", \"what'll've\": \"what will have\", \"what're\": \"what are\",\n",
        "                           \"what's\": \"what is\", \"what've\": \"what have\", \"when's\": \"when is\", \"when've\": \"when have\", \"where'd\": \"where did\", \"where's\": \"where is\",\n",
        "                           \"where've\": \"where have\", \"who'll\": \"who will\", \"who'll've\": \"who will have\", \"who's\": \"who is\", \"who've\": \"who have\",\n",
        "                           \"why's\": \"why is\", \"why've\": \"why have\", \"will've\": \"will have\", \"won't\": \"will not\", \"won't've\": \"will not have\",\n",
        "                           \"would've\": \"would have\", \"wouldn't\": \"would not\", \"wouldn't've\": \"would not have\", \"y'all\": \"you all\",\n",
        "                           \"y'all'd\": \"you all would\",\"y'all'd've\": \"you all would have\",\"y'all're\": \"you all are\",\"y'all've\": \"you all have\",\n",
        "                           \"you'd\": \"you would\", \"you'd've\": \"you would have\", \"you'll\": \"you will\", \"you'll've\": \"you will have\",\n",
        "                           \"you're\": \"you are\", \"you've\": \"you have\"}"
      ],
      "metadata": {
        "id": "-2kju4DpuKKI"
      },
      "execution_count": 9,
      "outputs": []
    },
    {
      "cell_type": "code",
      "source": [
        "def text_cleaner(text, num):\n",
        "    \"\"\"\n",
        "    This function cleans a text by removing everything :)\n",
        "    \"\"\"\n",
        "    #define new string\n",
        "    newString = text.lower()\n",
        "    newString = BeautifulSoup(newString, \"lxml\").text\n",
        "    newString = re.sub(r'\\([^)]*\\)', '', newString)\n",
        "    newString = re.sub('\"','', newString)\n",
        "    newString = ' '.join([contraction_mapping[t] if t in contraction_mapping else t for t in newString.split(\" \")])\n",
        "    newString = re.sub(r\"'s\\b\",\"\",newString)\n",
        "    newString = re.sub(\"[^a-zA-Z]\", \" \", newString)\n",
        "    newString = re.sub('[m]{2,}', 'mm', newString)\n",
        "\n",
        "    #Clean texts with number 0\n",
        "    if num == 0:\n",
        "        tokens = [w for w in newString.split() if not w in stop_words]\n",
        "\n",
        "    #Clean Summaries with number 1\n",
        "    else:\n",
        "        tokens=newString.split()\n",
        "\n",
        "    long_words = []\n",
        "    for i in tokens:\n",
        "        if len(i) > 1:\n",
        "            long_words.append(i)\n",
        "    return (\" \".join(long_words)).strip()"
      ],
      "metadata": {
        "id": "r75f5yWruT0J"
      },
      "execution_count": 10,
      "outputs": []
    },
    {
      "cell_type": "code",
      "source": [
        "#clean the text\n",
        "cleaned_texts = []\n",
        "\n",
        "for t in df[\"Text\"]:\n",
        "    cleaned_texts.append(text_cleaner(t, 0))"
      ],
      "metadata": {
        "id": "yagbUw0Rudo6"
      },
      "execution_count": 11,
      "outputs": []
    },
    {
      "cell_type": "code",
      "source": [
        "#clean summaries\n",
        "cleaned_summaries = []\n",
        "\n",
        "for s in df[\"Summary\"]:\n",
        "    cleaned_summaries.append(text_cleaner(s, 1))"
      ],
      "metadata": {
        "id": "E1g9xQY2uhyT"
      },
      "execution_count": 12,
      "outputs": []
    },
    {
      "cell_type": "code",
      "source": [
        "#create new dataframe for the cleaned texts and summaries\n",
        "dataframe = pd.DataFrame(columns=[\"text\", \"summary\"])\n",
        "#put cleaned version of texts and summaries into the dataframe\n",
        "dataframe[\"text\"] = cleaned_texts\n",
        "dataframe[\"summary\"] = cleaned_summaries"
      ],
      "metadata": {
        "id": "WrutQoiguqeP"
      },
      "execution_count": 13,
      "outputs": []
    },
    {
      "cell_type": "code",
      "source": [
        "dataframe"
      ],
      "metadata": {
        "colab": {
          "base_uri": "https://localhost:8080/",
          "height": 423
        },
        "id": "V28OHsTJusyA",
        "outputId": "34847536-7c11-487b-88d6-3e89775088e8"
      },
      "execution_count": 14,
      "outputs": [
        {
          "output_type": "execute_result",
          "data": {
            "text/plain": [
              "                                                                                                                                                                                                         text  \\\n",
              "0                                        bought several vitality canned dog food products found good quality product looks like stew processed meat smells better labrador finicky appreciates product better   \n",
              "1                                                                       product arrived labeled jumbo salted peanuts peanuts actually small sized unsalted sure error vendor intended represent product jumbo   \n",
              "2     confection around centuries light pillowy citrus gelatin nuts case filberts cut tiny squares liberally coated powdered sugar tiny mouthful heaven chewy flavorful highly recommend yummy treat famil...   \n",
              "3                                                                                 looking secret ingredient robitussin believe found got addition root beer extract ordered made cherry soda flavor medicinal   \n",
              "4                                                                                                                         great taffy great price wide assortment yummy taffy delivery quick taffy lover deal   \n",
              "...                                                                                                                                                                                                       ...   \n",
              "6234                                                                                                                                               ordering bulk repeat shipping option tasty tea great value   \n",
              "6235                                                                                       sleepytime tea one teas always counted mellow great taste smell perfect relaxing long day tea herbal teas measured   \n",
              "6236  valerian chamomile blended spearmint leaves lemon grass hawthorn berries orange blossoms create delicious tea savor late night drift dreams tea much effective regular sleepytime say sleep cycle fa...   \n",
              "6237  wonderful product drink times day obviously original sleepytime tea causes real drowsiness start day tea end tea makes relaxed healthier smoking lolit also made fan sugarless tea never go back swe...   \n",
              "6238                                                                       product great daughter extremely pick loves also gluten free actually bad calories per serving great dish take thanksgiving dinner   \n",
              "\n",
              "                              summary  \n",
              "0               good quality dog food  \n",
              "1                   not as advertised  \n",
              "2                 delight says it all  \n",
              "3                      cough medicine  \n",
              "4                         great taffy  \n",
              "...                               ...  \n",
              "6234                      great value  \n",
              "6235              flawless herbal tea  \n",
              "6236          perfect for the evening  \n",
              "6237  wow im addicted but it is great  \n",
              "6238                awesome corn cake  \n",
              "\n",
              "[6239 rows x 2 columns]"
            ],
            "text/html": [
              "\n",
              "  <div id=\"df-6db73147-2e06-4b7b-a1c6-ef8aecbd9263\" class=\"colab-df-container\">\n",
              "    <div>\n",
              "<style scoped>\n",
              "    .dataframe tbody tr th:only-of-type {\n",
              "        vertical-align: middle;\n",
              "    }\n",
              "\n",
              "    .dataframe tbody tr th {\n",
              "        vertical-align: top;\n",
              "    }\n",
              "\n",
              "    .dataframe thead th {\n",
              "        text-align: right;\n",
              "    }\n",
              "</style>\n",
              "<table border=\"1\" class=\"dataframe\">\n",
              "  <thead>\n",
              "    <tr style=\"text-align: right;\">\n",
              "      <th></th>\n",
              "      <th>text</th>\n",
              "      <th>summary</th>\n",
              "    </tr>\n",
              "  </thead>\n",
              "  <tbody>\n",
              "    <tr>\n",
              "      <th>0</th>\n",
              "      <td>bought several vitality canned dog food products found good quality product looks like stew processed meat smells better labrador finicky appreciates product better</td>\n",
              "      <td>good quality dog food</td>\n",
              "    </tr>\n",
              "    <tr>\n",
              "      <th>1</th>\n",
              "      <td>product arrived labeled jumbo salted peanuts peanuts actually small sized unsalted sure error vendor intended represent product jumbo</td>\n",
              "      <td>not as advertised</td>\n",
              "    </tr>\n",
              "    <tr>\n",
              "      <th>2</th>\n",
              "      <td>confection around centuries light pillowy citrus gelatin nuts case filberts cut tiny squares liberally coated powdered sugar tiny mouthful heaven chewy flavorful highly recommend yummy treat famil...</td>\n",
              "      <td>delight says it all</td>\n",
              "    </tr>\n",
              "    <tr>\n",
              "      <th>3</th>\n",
              "      <td>looking secret ingredient robitussin believe found got addition root beer extract ordered made cherry soda flavor medicinal</td>\n",
              "      <td>cough medicine</td>\n",
              "    </tr>\n",
              "    <tr>\n",
              "      <th>4</th>\n",
              "      <td>great taffy great price wide assortment yummy taffy delivery quick taffy lover deal</td>\n",
              "      <td>great taffy</td>\n",
              "    </tr>\n",
              "    <tr>\n",
              "      <th>...</th>\n",
              "      <td>...</td>\n",
              "      <td>...</td>\n",
              "    </tr>\n",
              "    <tr>\n",
              "      <th>6234</th>\n",
              "      <td>ordering bulk repeat shipping option tasty tea great value</td>\n",
              "      <td>great value</td>\n",
              "    </tr>\n",
              "    <tr>\n",
              "      <th>6235</th>\n",
              "      <td>sleepytime tea one teas always counted mellow great taste smell perfect relaxing long day tea herbal teas measured</td>\n",
              "      <td>flawless herbal tea</td>\n",
              "    </tr>\n",
              "    <tr>\n",
              "      <th>6236</th>\n",
              "      <td>valerian chamomile blended spearmint leaves lemon grass hawthorn berries orange blossoms create delicious tea savor late night drift dreams tea much effective regular sleepytime say sleep cycle fa...</td>\n",
              "      <td>perfect for the evening</td>\n",
              "    </tr>\n",
              "    <tr>\n",
              "      <th>6237</th>\n",
              "      <td>wonderful product drink times day obviously original sleepytime tea causes real drowsiness start day tea end tea makes relaxed healthier smoking lolit also made fan sugarless tea never go back swe...</td>\n",
              "      <td>wow im addicted but it is great</td>\n",
              "    </tr>\n",
              "    <tr>\n",
              "      <th>6238</th>\n",
              "      <td>product great daughter extremely pick loves also gluten free actually bad calories per serving great dish take thanksgiving dinner</td>\n",
              "      <td>awesome corn cake</td>\n",
              "    </tr>\n",
              "  </tbody>\n",
              "</table>\n",
              "<p>6239 rows × 2 columns</p>\n",
              "</div>\n",
              "    <div class=\"colab-df-buttons\">\n",
              "\n",
              "  <div class=\"colab-df-container\">\n",
              "    <button class=\"colab-df-convert\" onclick=\"convertToInteractive('df-6db73147-2e06-4b7b-a1c6-ef8aecbd9263')\"\n",
              "            title=\"Convert this dataframe to an interactive table.\"\n",
              "            style=\"display:none;\">\n",
              "\n",
              "  <svg xmlns=\"http://www.w3.org/2000/svg\" height=\"24px\" viewBox=\"0 -960 960 960\">\n",
              "    <path d=\"M120-120v-720h720v720H120Zm60-500h600v-160H180v160Zm220 220h160v-160H400v160Zm0 220h160v-160H400v160ZM180-400h160v-160H180v160Zm440 0h160v-160H620v160ZM180-180h160v-160H180v160Zm440 0h160v-160H620v160Z\"/>\n",
              "  </svg>\n",
              "    </button>\n",
              "\n",
              "  <style>\n",
              "    .colab-df-container {\n",
              "      display:flex;\n",
              "      gap: 12px;\n",
              "    }\n",
              "\n",
              "    .colab-df-convert {\n",
              "      background-color: #E8F0FE;\n",
              "      border: none;\n",
              "      border-radius: 50%;\n",
              "      cursor: pointer;\n",
              "      display: none;\n",
              "      fill: #1967D2;\n",
              "      height: 32px;\n",
              "      padding: 0 0 0 0;\n",
              "      width: 32px;\n",
              "    }\n",
              "\n",
              "    .colab-df-convert:hover {\n",
              "      background-color: #E2EBFA;\n",
              "      box-shadow: 0px 1px 2px rgba(60, 64, 67, 0.3), 0px 1px 3px 1px rgba(60, 64, 67, 0.15);\n",
              "      fill: #174EA6;\n",
              "    }\n",
              "\n",
              "    .colab-df-buttons div {\n",
              "      margin-bottom: 4px;\n",
              "    }\n",
              "\n",
              "    [theme=dark] .colab-df-convert {\n",
              "      background-color: #3B4455;\n",
              "      fill: #D2E3FC;\n",
              "    }\n",
              "\n",
              "    [theme=dark] .colab-df-convert:hover {\n",
              "      background-color: #434B5C;\n",
              "      box-shadow: 0px 1px 3px 1px rgba(0, 0, 0, 0.15);\n",
              "      filter: drop-shadow(0px 1px 2px rgba(0, 0, 0, 0.3));\n",
              "      fill: #FFFFFF;\n",
              "    }\n",
              "  </style>\n",
              "\n",
              "    <script>\n",
              "      const buttonEl =\n",
              "        document.querySelector('#df-6db73147-2e06-4b7b-a1c6-ef8aecbd9263 button.colab-df-convert');\n",
              "      buttonEl.style.display =\n",
              "        google.colab.kernel.accessAllowed ? 'block' : 'none';\n",
              "\n",
              "      async function convertToInteractive(key) {\n",
              "        const element = document.querySelector('#df-6db73147-2e06-4b7b-a1c6-ef8aecbd9263');\n",
              "        const dataTable =\n",
              "          await google.colab.kernel.invokeFunction('convertToInteractive',\n",
              "                                                    [key], {});\n",
              "        if (!dataTable) return;\n",
              "\n",
              "        const docLinkHtml = 'Like what you see? Visit the ' +\n",
              "          '<a target=\"_blank\" href=https://colab.research.google.com/notebooks/data_table.ipynb>data table notebook</a>'\n",
              "          + ' to learn more about interactive tables.';\n",
              "        element.innerHTML = '';\n",
              "        dataTable['output_type'] = 'display_data';\n",
              "        await google.colab.output.renderOutput(dataTable, element);\n",
              "        const docLink = document.createElement('div');\n",
              "        docLink.innerHTML = docLinkHtml;\n",
              "        element.appendChild(docLink);\n",
              "      }\n",
              "    </script>\n",
              "  </div>\n",
              "\n",
              "\n",
              "<div id=\"df-86ff6031-65f9-40d4-bcdd-a74d54a18d2b\">\n",
              "  <button class=\"colab-df-quickchart\" onclick=\"quickchart('df-86ff6031-65f9-40d4-bcdd-a74d54a18d2b')\"\n",
              "            title=\"Suggest charts\"\n",
              "            style=\"display:none;\">\n",
              "\n",
              "<svg xmlns=\"http://www.w3.org/2000/svg\" height=\"24px\"viewBox=\"0 0 24 24\"\n",
              "     width=\"24px\">\n",
              "    <g>\n",
              "        <path d=\"M19 3H5c-1.1 0-2 .9-2 2v14c0 1.1.9 2 2 2h14c1.1 0 2-.9 2-2V5c0-1.1-.9-2-2-2zM9 17H7v-7h2v7zm4 0h-2V7h2v10zm4 0h-2v-4h2v4z\"/>\n",
              "    </g>\n",
              "</svg>\n",
              "  </button>\n",
              "\n",
              "<style>\n",
              "  .colab-df-quickchart {\n",
              "      --bg-color: #E8F0FE;\n",
              "      --fill-color: #1967D2;\n",
              "      --hover-bg-color: #E2EBFA;\n",
              "      --hover-fill-color: #174EA6;\n",
              "      --disabled-fill-color: #AAA;\n",
              "      --disabled-bg-color: #DDD;\n",
              "  }\n",
              "\n",
              "  [theme=dark] .colab-df-quickchart {\n",
              "      --bg-color: #3B4455;\n",
              "      --fill-color: #D2E3FC;\n",
              "      --hover-bg-color: #434B5C;\n",
              "      --hover-fill-color: #FFFFFF;\n",
              "      --disabled-bg-color: #3B4455;\n",
              "      --disabled-fill-color: #666;\n",
              "  }\n",
              "\n",
              "  .colab-df-quickchart {\n",
              "    background-color: var(--bg-color);\n",
              "    border: none;\n",
              "    border-radius: 50%;\n",
              "    cursor: pointer;\n",
              "    display: none;\n",
              "    fill: var(--fill-color);\n",
              "    height: 32px;\n",
              "    padding: 0;\n",
              "    width: 32px;\n",
              "  }\n",
              "\n",
              "  .colab-df-quickchart:hover {\n",
              "    background-color: var(--hover-bg-color);\n",
              "    box-shadow: 0 1px 2px rgba(60, 64, 67, 0.3), 0 1px 3px 1px rgba(60, 64, 67, 0.15);\n",
              "    fill: var(--button-hover-fill-color);\n",
              "  }\n",
              "\n",
              "  .colab-df-quickchart-complete:disabled,\n",
              "  .colab-df-quickchart-complete:disabled:hover {\n",
              "    background-color: var(--disabled-bg-color);\n",
              "    fill: var(--disabled-fill-color);\n",
              "    box-shadow: none;\n",
              "  }\n",
              "\n",
              "  .colab-df-spinner {\n",
              "    border: 2px solid var(--fill-color);\n",
              "    border-color: transparent;\n",
              "    border-bottom-color: var(--fill-color);\n",
              "    animation:\n",
              "      spin 1s steps(1) infinite;\n",
              "  }\n",
              "\n",
              "  @keyframes spin {\n",
              "    0% {\n",
              "      border-color: transparent;\n",
              "      border-bottom-color: var(--fill-color);\n",
              "      border-left-color: var(--fill-color);\n",
              "    }\n",
              "    20% {\n",
              "      border-color: transparent;\n",
              "      border-left-color: var(--fill-color);\n",
              "      border-top-color: var(--fill-color);\n",
              "    }\n",
              "    30% {\n",
              "      border-color: transparent;\n",
              "      border-left-color: var(--fill-color);\n",
              "      border-top-color: var(--fill-color);\n",
              "      border-right-color: var(--fill-color);\n",
              "    }\n",
              "    40% {\n",
              "      border-color: transparent;\n",
              "      border-right-color: var(--fill-color);\n",
              "      border-top-color: var(--fill-color);\n",
              "    }\n",
              "    60% {\n",
              "      border-color: transparent;\n",
              "      border-right-color: var(--fill-color);\n",
              "    }\n",
              "    80% {\n",
              "      border-color: transparent;\n",
              "      border-right-color: var(--fill-color);\n",
              "      border-bottom-color: var(--fill-color);\n",
              "    }\n",
              "    90% {\n",
              "      border-color: transparent;\n",
              "      border-bottom-color: var(--fill-color);\n",
              "    }\n",
              "  }\n",
              "</style>\n",
              "\n",
              "  <script>\n",
              "    async function quickchart(key) {\n",
              "      const quickchartButtonEl =\n",
              "        document.querySelector('#' + key + ' button');\n",
              "      quickchartButtonEl.disabled = true;  // To prevent multiple clicks.\n",
              "      quickchartButtonEl.classList.add('colab-df-spinner');\n",
              "      try {\n",
              "        const charts = await google.colab.kernel.invokeFunction(\n",
              "            'suggestCharts', [key], {});\n",
              "      } catch (error) {\n",
              "        console.error('Error during call to suggestCharts:', error);\n",
              "      }\n",
              "      quickchartButtonEl.classList.remove('colab-df-spinner');\n",
              "      quickchartButtonEl.classList.add('colab-df-quickchart-complete');\n",
              "    }\n",
              "    (() => {\n",
              "      let quickchartButtonEl =\n",
              "        document.querySelector('#df-86ff6031-65f9-40d4-bcdd-a74d54a18d2b button');\n",
              "      quickchartButtonEl.style.display =\n",
              "        google.colab.kernel.accessAllowed ? 'block' : 'none';\n",
              "    })();\n",
              "  </script>\n",
              "</div>\n",
              "\n",
              "  <div id=\"id_e0147d07-d14d-47d1-a4d5-d20826f7c5d8\">\n",
              "    <style>\n",
              "      .colab-df-generate {\n",
              "        background-color: #E8F0FE;\n",
              "        border: none;\n",
              "        border-radius: 50%;\n",
              "        cursor: pointer;\n",
              "        display: none;\n",
              "        fill: #1967D2;\n",
              "        height: 32px;\n",
              "        padding: 0 0 0 0;\n",
              "        width: 32px;\n",
              "      }\n",
              "\n",
              "      .colab-df-generate:hover {\n",
              "        background-color: #E2EBFA;\n",
              "        box-shadow: 0px 1px 2px rgba(60, 64, 67, 0.3), 0px 1px 3px 1px rgba(60, 64, 67, 0.15);\n",
              "        fill: #174EA6;\n",
              "      }\n",
              "\n",
              "      [theme=dark] .colab-df-generate {\n",
              "        background-color: #3B4455;\n",
              "        fill: #D2E3FC;\n",
              "      }\n",
              "\n",
              "      [theme=dark] .colab-df-generate:hover {\n",
              "        background-color: #434B5C;\n",
              "        box-shadow: 0px 1px 3px 1px rgba(0, 0, 0, 0.15);\n",
              "        filter: drop-shadow(0px 1px 2px rgba(0, 0, 0, 0.3));\n",
              "        fill: #FFFFFF;\n",
              "      }\n",
              "    </style>\n",
              "    <button class=\"colab-df-generate\" onclick=\"generateWithVariable('dataframe')\"\n",
              "            title=\"Generate code using this dataframe.\"\n",
              "            style=\"display:none;\">\n",
              "\n",
              "  <svg xmlns=\"http://www.w3.org/2000/svg\" height=\"24px\"viewBox=\"0 0 24 24\"\n",
              "       width=\"24px\">\n",
              "    <path d=\"M7,19H8.4L18.45,9,17,7.55,7,17.6ZM5,21V16.75L18.45,3.32a2,2,0,0,1,2.83,0l1.4,1.43a1.91,1.91,0,0,1,.58,1.4,1.91,1.91,0,0,1-.58,1.4L9.25,21ZM18.45,9,17,7.55Zm-12,3A5.31,5.31,0,0,0,4.9,8.1,5.31,5.31,0,0,0,1,6.5,5.31,5.31,0,0,0,4.9,4.9,5.31,5.31,0,0,0,6.5,1,5.31,5.31,0,0,0,8.1,4.9,5.31,5.31,0,0,0,12,6.5,5.46,5.46,0,0,0,6.5,12Z\"/>\n",
              "  </svg>\n",
              "    </button>\n",
              "    <script>\n",
              "      (() => {\n",
              "      const buttonEl =\n",
              "        document.querySelector('#id_e0147d07-d14d-47d1-a4d5-d20826f7c5d8 button.colab-df-generate');\n",
              "      buttonEl.style.display =\n",
              "        google.colab.kernel.accessAllowed ? 'block' : 'none';\n",
              "\n",
              "      buttonEl.onclick = () => {\n",
              "        google.colab.notebook.generateWithVariable('dataframe');\n",
              "      }\n",
              "      })();\n",
              "    </script>\n",
              "  </div>\n",
              "\n",
              "    </div>\n",
              "  </div>\n"
            ],
            "application/vnd.google.colaboratory.intrinsic+json": {
              "type": "dataframe",
              "variable_name": "dataframe",
              "summary": "{\n  \"name\": \"dataframe\",\n  \"rows\": 6239,\n  \"fields\": [\n    {\n      \"column\": \"text\",\n      \"properties\": {\n        \"dtype\": \"string\",\n        \"num_unique_values\": 6236,\n        \"samples\": [\n          \"kettle brand chips probably best potato chips tasted thus far thick bite love creative flavors favorite kettle chip happens honey dijon think great combination sweet salty tangy perfect one snack attacks know exactly want especially love curled chips extra texture crunch oz bags perfect anyone problem controlling portions\",\n          \"wow remarkably tasty chips discovered weight watchers like fact low calories fat high flavor umami big fan\",\n          \"great company first ever seen offer low acid option absolutely taste difference coffee without bitterness makes possible enjoy purity bean without bitter taste also cool black mugs love\"\n        ],\n        \"semantic_type\": \"\",\n        \"description\": \"\"\n      }\n    },\n    {\n      \"column\": \"summary\",\n      \"properties\": {\n        \"dtype\": \"string\",\n        \"num_unique_values\": 5110,\n        \"samples\": [\n          \"wish would have bought more\",\n          \"now bpa free according to earth best\",\n          \"wheat free alternative\"\n        ],\n        \"semantic_type\": \"\",\n        \"description\": \"\"\n      }\n    }\n  ]\n}"
            }
          },
          "metadata": {},
          "execution_count": 14
        }
      ]
    },
    {
      "cell_type": "code",
      "source": [
        "dataframe.replace('', np.nan, inplace=True)\n",
        "dataframe.dropna(axis=0,inplace=True)"
      ],
      "metadata": {
        "id": "OyiNLxb8uu_v"
      },
      "execution_count": 15,
      "outputs": []
    },
    {
      "cell_type": "code",
      "source": [
        "#define text and summary max lengths\n",
        "MAX_TEXT_LEN = 50\n",
        "MAX_SUMMARY_LEN = 10"
      ],
      "metadata": {
        "id": "PtqjlKuIuxLp"
      },
      "execution_count": 16,
      "outputs": []
    },
    {
      "cell_type": "code",
      "source": [
        "#Just keep summaries and text within limits\n",
        "#make the texts and summaries some arrays\n",
        "cleaned_text = np.array(dataframe[\"text\"])\n",
        "cleaned_summary = np.array(dataframe[\"summary\"])\n",
        "\n",
        "#define lists for short text and short summaries\n",
        "short_text = []\n",
        "short_summary = []\n",
        "\n",
        "#clean outliers\n",
        "for i in range(len(cleaned_text)):\n",
        "    if(len(cleaned_summary[i].split()) <= MAX_SUMMARY_LEN and len(cleaned_text[i].split()) <= MAX_TEXT_LEN):\n",
        "        short_text.append(cleaned_text[i])\n",
        "        short_summary.append(cleaned_summary[i])\n",
        "\n",
        "#change the dataframe\n",
        "final_dataframe = pd.DataFrame({\"text\":short_text, \"summary\":short_summary})"
      ],
      "metadata": {
        "id": "u6hI-EBUu7ZV"
      },
      "execution_count": 17,
      "outputs": []
    },
    {
      "cell_type": "code",
      "source": [
        "#Adding Tokens\n",
        "final_dataframe[\"summary\"] = final_dataframe[\"summary\"].apply(lambda x: \"soseq \" + x + \" eoseq\")"
      ],
      "metadata": {
        "id": "OkIorMIVvK2X"
      },
      "execution_count": 18,
      "outputs": []
    },
    {
      "cell_type": "code",
      "source": [
        "#print wome sample of the dataframe\n",
        "for i in range(3):\n",
        "  print(\"\\033[1m\" + \"Text: \" + \"\\033[0m\" + final_dataframe[\"text\"][i])\n",
        "  print(\"\\033[1m\" + \"Summary: \" + \"\\033[0m\" + final_dataframe[\"summary\"][i])\n",
        "  print(\"\\n\")"
      ],
      "metadata": {
        "colab": {
          "base_uri": "https://localhost:8080/"
        },
        "id": "2806YWVPvTAX",
        "outputId": "a3e69274-3593-46af-aa86-db530e914aec"
      },
      "execution_count": 19,
      "outputs": [
        {
          "output_type": "stream",
          "name": "stdout",
          "text": [
            "\u001b[1mText: \u001b[0mbought several vitality canned dog food products found good quality product looks like stew processed meat smells better labrador finicky appreciates product better\n",
            "\u001b[1mSummary: \u001b[0msoseq good quality dog food eoseq\n",
            "\n",
            "\n",
            "\u001b[1mText: \u001b[0mproduct arrived labeled jumbo salted peanuts peanuts actually small sized unsalted sure error vendor intended represent product jumbo\n",
            "\u001b[1mSummary: \u001b[0msoseq not as advertised eoseq\n",
            "\n",
            "\n",
            "\u001b[1mText: \u001b[0mconfection around centuries light pillowy citrus gelatin nuts case filberts cut tiny squares liberally coated powdered sugar tiny mouthful heaven chewy flavorful highly recommend yummy treat familiar story lewis lion witch wardrobe treat seduces edmund selling brother sisters witch\n",
            "\u001b[1mSummary: \u001b[0msoseq delight says it all eoseq\n",
            "\n",
            "\n"
          ]
        }
      ]
    },
    {
      "cell_type": "code",
      "source": [
        "#Split data into train, test and validation\n",
        "#define arrays for datas\n",
        "texts = np.array(final_dataframe[\"text\"])\n",
        "summaries = np.array(final_dataframe[\"summary\"])"
      ],
      "metadata": {
        "id": "eQS7qjgDvWCq"
      },
      "execution_count": 20,
      "outputs": []
    },
    {
      "cell_type": "code",
      "source": [
        "#divide train and validation\n",
        "x_train, x_val, y_train, y_val = tts(texts, summaries, test_size=0.15, random_state=0, shuffle=True)"
      ],
      "metadata": {
        "id": "8RZ5i-g4ve4k"
      },
      "execution_count": 21,
      "outputs": []
    },
    {
      "cell_type": "code",
      "source": [
        "#divide test data from the validation data\n",
        "x_val, x_test, y_val, y_test = tts(x_val, y_val, test_size=0.05, random_state=0, shuffle=True)"
      ],
      "metadata": {
        "id": "yAJyg-Xsvj8T"
      },
      "execution_count": 22,
      "outputs": []
    },
    {
      "cell_type": "code",
      "source": [
        "#Tokenization\n",
        "#Input data tokenization\n",
        "#define the x tokenizer\n",
        "x_tokenizer = Tokenizer()\n",
        "x_tokenizer.fit_on_texts(list(x_train))"
      ],
      "metadata": {
        "id": "L05ERBxmvnSX"
      },
      "execution_count": 23,
      "outputs": []
    },
    {
      "cell_type": "code",
      "source": [
        "#define the threshold\n",
        "threshold = 4\n",
        "\n",
        "#define variables for total count, count, frequency and total frequency\n",
        "count = 0 # Number of rare words\n",
        "total_count = 0 # count of every unique word in texts\n",
        "freq = 0\n",
        "total_freq = 0\n",
        "\n",
        "for key, value in x_tokenizer.word_counts.items():\n",
        "  #update counts and frequencies\n",
        "  total_count += 1\n",
        "  #if the value of word was lower than our threshold, count!\n",
        "  if value < threshold:\n",
        "    count += 1"
      ],
      "metadata": {
        "id": "cXVrC-CewHev"
      },
      "execution_count": 24,
      "outputs": []
    },
    {
      "cell_type": "code",
      "source": [
        "#get the top most common words number\n",
        "common_words = total_count - count\n",
        "\n",
        "#fit the tokenizer\n",
        "x_tokenizer = Tokenizer(num_words=common_words)\n",
        "x_tokenizer.fit_on_texts(list(x_train))\n",
        "\n",
        "#convert text sequence to int\n",
        "x_train_seq = x_tokenizer.texts_to_sequences(x_train)\n",
        "x_val_seq = x_tokenizer.texts_to_sequences(x_val)\n",
        "x_test_seq = x_tokenizer.texts_to_sequences(x_test)\n",
        "\n",
        "#Zero padding\n",
        "x_train = pad_sequences(x_train_seq, maxlen=MAX_TEXT_LEN, padding=\"post\")\n",
        "x_val = pad_sequences(x_val_seq, maxlen=MAX_TEXT_LEN, padding=\"post\")\n",
        "x_test = pad_sequences(x_test_seq, maxlen=MAX_TEXT_LEN, padding=\"post\")\n",
        "\n",
        "#get the size of input vocabulary\n",
        "x_vocab = x_tokenizer.num_words + 1"
      ],
      "metadata": {
        "id": "RhSXKmiQwMwe"
      },
      "execution_count": 25,
      "outputs": []
    },
    {
      "cell_type": "code",
      "source": [
        "print(f\"size of input (X) vocabulary: {x_vocab}\")"
      ],
      "metadata": {
        "colab": {
          "base_uri": "https://localhost:8080/"
        },
        "id": "HFKmQi_9wTYj",
        "outputId": "87a199dc-8672-484b-92b7-41bf4f6f0a6e"
      },
      "execution_count": 26,
      "outputs": [
        {
          "output_type": "stream",
          "name": "stdout",
          "text": [
            "size of input (X) vocabulary: 2995\n"
          ]
        }
      ]
    },
    {
      "cell_type": "code",
      "source": [
        "#Output data tokenization\n",
        "#define the tokenizer\n",
        "y_tokenizer = Tokenizer()\n",
        "y_tokenizer.fit_on_texts(list(y_train))"
      ],
      "metadata": {
        "id": "5dUzaZGpwVgZ"
      },
      "execution_count": 27,
      "outputs": []
    },
    {
      "cell_type": "code",
      "source": [
        "#define the threshold\n",
        "threshold = 6\n",
        "\n",
        "#define variables for total count, count, frequency and total frequency\n",
        "count = 0 # Number of rare words\n",
        "total_count = 0 # count of every unique word in texts\n",
        "freq = 0\n",
        "total_freq = 0\n",
        "\n",
        "for key, value in y_tokenizer.word_counts.items():\n",
        "  #update counts and frequencies\n",
        "  total_count += 1\n",
        "  #if the value of word was lower than our threshold, count!\n",
        "  if value < threshold:\n",
        "    count += 1\n"
      ],
      "metadata": {
        "id": "DVWXvP9ewb8Z"
      },
      "execution_count": 28,
      "outputs": []
    },
    {
      "cell_type": "code",
      "source": [
        "#get the count of common words\n",
        "common_words = total_count - count\n",
        "\n",
        "#fit tokenizer on common words\n",
        "y_tokenizer = Tokenizer(num_words=common_words)\n",
        "y_tokenizer.fit_on_texts(list(y_train))\n",
        "\n",
        "#convert text sequence to int\n",
        "y_train_seq = y_tokenizer.texts_to_sequences(y_train)\n",
        "y_val_seq = y_tokenizer.texts_to_sequences(y_val)\n",
        "y_test_seq = y_tokenizer.texts_to_sequences(y_test)\n",
        "\n",
        "#Zero padding\n",
        "y_train = pad_sequences(y_train_seq, maxlen=MAX_SUMMARY_LEN, padding=\"post\")\n",
        "y_val = pad_sequences(y_val_seq, maxlen=MAX_SUMMARY_LEN, padding=\"post\")\n",
        "y_test = pad_sequences(y_test_seq, maxlen=MAX_SUMMARY_LEN, padding=\"post\")\n",
        "\n",
        "#get the size of output vocabulary\n",
        "y_vocab = y_tokenizer.num_words + 1"
      ],
      "metadata": {
        "id": "0AHrkBSBwirr"
      },
      "execution_count": 29,
      "outputs": []
    },
    {
      "cell_type": "code",
      "source": [
        "print(f\"size of output (Y) vocabulary: {y_vocab}\")"
      ],
      "metadata": {
        "colab": {
          "base_uri": "https://localhost:8080/"
        },
        "id": "gKKed5h8wnm8",
        "outputId": "29890df2-6905-433a-fb36-ef557934479f"
      },
      "execution_count": 30,
      "outputs": [
        {
          "output_type": "stream",
          "name": "stdout",
          "text": [
            "size of output (Y) vocabulary: 396\n"
          ]
        }
      ]
    },
    {
      "cell_type": "code",
      "source": [
        "#Remove rows with only start and end tokens\n",
        "#Train data\n",
        "#define a list for index\n",
        "index = []\n",
        "\n",
        "#loop over train data\n",
        "for i in range(len(y_train)):\n",
        "    count = 0\n",
        "    for j in y_train[i]:\n",
        "        if j != 0:\n",
        "            count += 1\n",
        "        #if count of words were 2, remove the data\n",
        "    if count == 2:\n",
        "        index.append(i)\n",
        "\n",
        "#remove rows\n",
        "y_train = np.delete(y_train, index, axis=0)\n",
        "x_train = np.delete(x_train, index, axis=0)"
      ],
      "metadata": {
        "id": "J8yFGxGLwqlm"
      },
      "execution_count": 31,
      "outputs": []
    },
    {
      "cell_type": "code",
      "source": [
        "#Validation data\n",
        "#define a list for index\n",
        "index = []\n",
        "\n",
        "#loop over train data\n",
        "for i in range(len(y_val)):\n",
        "    count = 0\n",
        "    for j in y_val[i]:\n",
        "        if j != 0:\n",
        "            count += 1\n",
        "        #if count of words were 2, remove the data\n",
        "    if count == 2:\n",
        "        index.append(i)\n",
        "\n",
        "#remove rows\n",
        "y_val = np.delete(y_val, index, axis=0)\n",
        "x_val = np.delete(x_val, index, axis=0)"
      ],
      "metadata": {
        "id": "38oH84jgw1Zc"
      },
      "execution_count": 32,
      "outputs": []
    },
    {
      "cell_type": "code",
      "source": [
        "#Test data\n",
        "#define a list for index\n",
        "index = []\n",
        "\n",
        "#loop over train data\n",
        "for i in range(len(y_test)):\n",
        "    count = 0\n",
        "    for j in y_test[i]:\n",
        "        if j != 0:\n",
        "            count += 1\n",
        "        #if count of words were 2, remove the data\n",
        "    if count == 2:\n",
        "        index.append(i)\n",
        "\n",
        "#remove rows\n",
        "y_test = np.delete(y_test, index, axis=0)\n",
        "x_test = np.delete(x_test, index, axis=0)\n"
      ],
      "metadata": {
        "id": "qnTsZQEfw9jL"
      },
      "execution_count": 33,
      "outputs": []
    },
    {
      "cell_type": "code",
      "source": [
        "x_train[0]"
      ],
      "metadata": {
        "colab": {
          "base_uri": "https://localhost:8080/"
        },
        "id": "5oyi35_OxE4D",
        "outputId": "e8e966f5-1bb6-4d07-80c5-f35b7d7f126f"
      },
      "execution_count": 34,
      "outputs": [
        {
          "output_type": "execute_result",
          "data": {
            "text/plain": [
              "array([ 111, 1275, 1827, 1276,  115, 1075,   29, 1277,  140,   28,  250,\n",
              "        739,  166,   82,  947,    0,    0,    0,    0,    0,    0,    0,\n",
              "          0,    0,    0,    0,    0,    0,    0,    0,    0,    0,    0,\n",
              "          0,    0,    0,    0,    0,    0,    0,    0,    0,    0,    0,\n",
              "          0,    0,    0,    0,    0,    0], dtype=int32)"
            ]
          },
          "metadata": {},
          "execution_count": 34
        }
      ]
    },
    {
      "cell_type": "code",
      "source": [
        "#setup the datas for training\n",
        "x_train_m = [x_train, y_train[:,:-1]]\n",
        "y_train_m = y_train.reshape(y_train.shape[0],y_train.shape[1], 1)[:,1:]\n",
        "x_val_m = [x_val, y_val[:,:-1]]\n",
        "y_val_m = y_val.reshape(y_val.shape[0],y_val.shape[1], 1)[:,1:]"
      ],
      "metadata": {
        "id": "hrplSo9LxJGz"
      },
      "execution_count": 35,
      "outputs": []
    },
    {
      "cell_type": "code",
      "source": [
        "#define hyperparameters\n",
        "EPOCHS = 50\n",
        "BATCH_SIZE = 256\n",
        "LATENT_DIM = 250\n",
        "EMBED_DIM = 90"
      ],
      "metadata": {
        "id": "-qFJcQzBxONv"
      },
      "execution_count": 36,
      "outputs": []
    },
    {
      "cell_type": "code",
      "source": [
        "#Model Building\n",
        "#-------------------------------------------------------------------- < Encoder > --------------------------------------------------------------------\n",
        "#define the input\n",
        "encoder_input = Input(shape=(MAX_TEXT_LEN, ), name=\"encoder_input\")\n",
        "\n",
        "#Embedding\n",
        "encoder_embed = Embedding(x_vocab, EMBED_DIM, trainable=True, name=\"encoder_embeding\")(encoder_input)\n",
        "\n",
        "#Encoder LSTM Block 1\n",
        "encoder_lstm1 = LSTM(LATENT_DIM, return_sequences=True, return_state=True, dropout=0.4, recurrent_dropout=0.4, name=\"enc_lstm_1\")\n",
        "encoder_output1, state_h1, state_c1 = encoder_lstm1(encoder_embed)\n",
        "\n",
        "#Encoder LSTM Block 2\n",
        "encoder_lstm2 = LSTM(LATENT_DIM, return_sequences=True, return_state=True, dropout=0.4, recurrent_dropout=0.4, name=\"enc_lstm_2\")\n",
        "encoder_output2, state_h2, state_c2 = encoder_lstm2(encoder_output1)\n",
        "\n",
        "#Encoder LSTM Block 3\n",
        "encoder_lstm3 = LSTM(LATENT_DIM, return_sequences=True, return_state=True, dropout=0.4, recurrent_dropout=0.4, name=\"enc_lstm_3\")\n",
        "encoder_output3, state_h3, state_c3 = encoder_lstm3(encoder_output2)\n",
        "\n",
        "#-------------------------------------------------------------------- < Decoder > --------------------------------------------------------------------\n",
        "#define the input\n",
        "decoder_input = Input(shape=(None, ), name=\"decoder_input\")\n",
        "\n",
        "#Embedding for Decoder\n",
        "decoder_embed_layer = Embedding(y_vocab, EMBED_DIM, trainable=True)\n",
        "decoder_embed = decoder_embed_layer(decoder_input)\n",
        "\n",
        "#Decoder LSTM\n",
        "decoder_lstm = LSTM(LATENT_DIM, return_sequences=True, return_state=True, dropout=0.4, recurrent_dropout=0.4, name=\"decoder_lstm\")\n",
        "decoder_lstm_output, decoder_h1, decoder_c1 = decoder_lstm(decoder_embed, initial_state=[state_h3, state_c3])\n",
        "\n",
        "#Attention Layer\n",
        "attention_layer = AttentionLayer(name=\"attention_layer\")\n",
        "attention_output, attention_state = attention_layer([encoder_output3, decoder_lstm_output])\n",
        "\n",
        "#concatinate decoder and attention otuputs\n",
        "decoder_concat = Concatenate(axis=-1, name=\"decoder_concat\")([decoder_lstm_output, attention_output])\n",
        "\n",
        "#Time Distributed Dense\n",
        "decoder_dense = TimeDistributed(Dense(y_vocab, activation=\"softmax\"))\n",
        "decoder_output = decoder_dense(decoder_concat)\n",
        "\n",
        "#define the final model\n",
        "model = Model([encoder_input, decoder_input], decoder_output)"
      ],
      "metadata": {
        "id": "AUZL1GsexSmj"
      },
      "execution_count": 37,
      "outputs": []
    },
    {
      "cell_type": "code",
      "source": [
        "#see the model summary\n",
        "model.summary()"
      ],
      "metadata": {
        "colab": {
          "base_uri": "https://localhost:8080/"
        },
        "id": "o9AlO3H4xuVr",
        "outputId": "e43bb56d-fd1b-4cc7-cc34-62f94dad58bb"
      },
      "execution_count": 38,
      "outputs": [
        {
          "output_type": "stream",
          "name": "stdout",
          "text": [
            "Model: \"model\"\n",
            "__________________________________________________________________________________________________\n",
            " Layer (type)                Output Shape                 Param #   Connected to                  \n",
            "==================================================================================================\n",
            " encoder_input (InputLayer)  [(None, 50)]                 0         []                            \n",
            "                                                                                                  \n",
            " encoder_embeding (Embeddin  (None, 50, 90)               269550    ['encoder_input[0][0]']       \n",
            " g)                                                                                               \n",
            "                                                                                                  \n",
            " enc_lstm_1 (LSTM)           [(None, 50, 250),            341000    ['encoder_embeding[0][0]']    \n",
            "                              (None, 250),                                                        \n",
            "                              (None, 250)]                                                        \n",
            "                                                                                                  \n",
            " decoder_input (InputLayer)  [(None, None)]               0         []                            \n",
            "                                                                                                  \n",
            " enc_lstm_2 (LSTM)           [(None, 50, 250),            501000    ['enc_lstm_1[0][0]']          \n",
            "                              (None, 250),                                                        \n",
            "                              (None, 250)]                                                        \n",
            "                                                                                                  \n",
            " embedding (Embedding)       (None, None, 90)             35640     ['decoder_input[0][0]']       \n",
            "                                                                                                  \n",
            " enc_lstm_3 (LSTM)           [(None, 50, 250),            501000    ['enc_lstm_2[0][0]']          \n",
            "                              (None, 250),                                                        \n",
            "                              (None, 250)]                                                        \n",
            "                                                                                                  \n",
            " decoder_lstm (LSTM)         [(None, None, 250),          341000    ['embedding[0][0]',           \n",
            "                              (None, 250),                           'enc_lstm_3[0][1]',          \n",
            "                              (None, 250)]                           'enc_lstm_3[0][2]']          \n",
            "                                                                                                  \n",
            " attention_layer (Attention  ((None, None, 250),          125250    ['enc_lstm_3[0][0]',          \n",
            " Layer)                       (None, None, 50))                      'decoder_lstm[0][0]']        \n",
            "                                                                                                  \n",
            " decoder_concat (Concatenat  (None, None, 500)            0         ['decoder_lstm[0][0]',        \n",
            " e)                                                                  'attention_layer[0][0]']     \n",
            "                                                                                                  \n",
            " time_distributed (TimeDist  (None, None, 396)            198396    ['decoder_concat[0][0]']      \n",
            " ributed)                                                                                         \n",
            "                                                                                                  \n",
            "==================================================================================================\n",
            "Total params: 2312836 (8.82 MB)\n",
            "Trainable params: 2312836 (8.82 MB)\n",
            "Non-trainable params: 0 (0.00 Byte)\n",
            "__________________________________________________________________________________________________\n"
          ]
        }
      ]
    },
    {
      "cell_type": "code",
      "source": [
        "#compile the model\n",
        "model.compile(optimizer='rmsprop', loss='sparse_categorical_crossentropy', metrics=[\"accuracy\"])"
      ],
      "metadata": {
        "id": "rDzmRyk-xxSX"
      },
      "execution_count": 39,
      "outputs": []
    },
    {
      "cell_type": "code",
      "source": [
        "#define callbacks\n",
        "early_stopping = EarlyStopping(monitor='val_loss', mode='min', verbose=1, patience=2)\n",
        "reduce_lr = ReduceLROnPlateau(monitor='val_loss', factor=0.15, patience=2, min_lr=0.0001)"
      ],
      "metadata": {
        "id": "lNf-LURkx1Kb"
      },
      "execution_count": 40,
      "outputs": []
    },
    {
      "cell_type": "code",
      "source": [
        "#Model Training\n",
        "history = model.fit(x_train_m, y_train_m, batch_size=BATCH_SIZE, epochs=EPOCHS, validation_data=(x_val_m, y_val_m), callbacks=[early_stopping, reduce_lr])"
      ],
      "metadata": {
        "colab": {
          "base_uri": "https://localhost:8080/"
        },
        "id": "No36O_KRx4SF",
        "outputId": "ce5c8c31-4bef-4a94-c419-871088e3c6df"
      },
      "execution_count": 41,
      "outputs": [
        {
          "output_type": "stream",
          "name": "stdout",
          "text": [
            "Epoch 1/50\n",
            "16/16 [==============================] - 117s 6s/step - loss: 3.2401 - accuracy: 0.5480 - val_loss: 2.1476 - val_accuracy: 0.6019 - lr: 0.0010\n",
            "Epoch 2/50\n",
            "16/16 [==============================] - 82s 5s/step - loss: 2.1602 - accuracy: 0.6082 - val_loss: 2.0808 - val_accuracy: 0.6159 - lr: 0.0010\n",
            "Epoch 3/50\n",
            "16/16 [==============================] - 83s 5s/step - loss: 2.1277 - accuracy: 0.6197 - val_loss: 2.0688 - val_accuracy: 0.6159 - lr: 0.0010\n",
            "Epoch 4/50\n",
            "16/16 [==============================] - 81s 5s/step - loss: 2.0901 - accuracy: 0.6259 - val_loss: 2.0166 - val_accuracy: 0.6215 - lr: 0.0010\n",
            "Epoch 5/50\n",
            "16/16 [==============================] - 82s 5s/step - loss: 2.0293 - accuracy: 0.6393 - val_loss: 1.9478 - val_accuracy: 0.6404 - lr: 0.0010\n",
            "Epoch 6/50\n",
            "16/16 [==============================] - 85s 5s/step - loss: 1.9381 - accuracy: 0.6630 - val_loss: 1.8407 - val_accuracy: 0.6737 - lr: 0.0010\n",
            "Epoch 7/50\n",
            "16/16 [==============================] - 82s 5s/step - loss: 1.8640 - accuracy: 0.6882 - val_loss: 1.7882 - val_accuracy: 0.7047 - lr: 0.0010\n",
            "Epoch 8/50\n",
            "16/16 [==============================] - 85s 5s/step - loss: 1.8278 - accuracy: 0.6965 - val_loss: 1.7680 - val_accuracy: 0.7047 - lr: 0.0010\n",
            "Epoch 9/50\n",
            "16/16 [==============================] - 86s 5s/step - loss: 1.8010 - accuracy: 0.7000 - val_loss: 1.7519 - val_accuracy: 0.7047 - lr: 0.0010\n",
            "Epoch 10/50\n",
            "16/16 [==============================] - 90s 5s/step - loss: 1.7895 - accuracy: 0.7000 - val_loss: 1.7447 - val_accuracy: 0.7047 - lr: 0.0010\n",
            "Epoch 11/50\n",
            "16/16 [==============================] - 85s 5s/step - loss: 1.7792 - accuracy: 0.7000 - val_loss: 1.7454 - val_accuracy: 0.7047 - lr: 0.0010\n",
            "Epoch 12/50\n",
            "16/16 [==============================] - 85s 5s/step - loss: 1.7759 - accuracy: 0.7000 - val_loss: 1.7415 - val_accuracy: 0.7047 - lr: 0.0010\n",
            "Epoch 13/50\n",
            "16/16 [==============================] - 85s 5s/step - loss: 1.7715 - accuracy: 0.7000 - val_loss: 1.7369 - val_accuracy: 0.7047 - lr: 0.0010\n",
            "Epoch 14/50\n",
            "16/16 [==============================] - 85s 5s/step - loss: 1.7630 - accuracy: 0.7000 - val_loss: 1.7378 - val_accuracy: 0.7047 - lr: 0.0010\n",
            "Epoch 15/50\n",
            "16/16 [==============================] - 83s 5s/step - loss: 1.7615 - accuracy: 0.7000 - val_loss: 1.7391 - val_accuracy: 0.7047 - lr: 0.0010\n",
            "Epoch 15: early stopping\n"
          ]
        }
      ]
    },
    {
      "cell_type": "code",
      "source": [
        "#fraw plots\n",
        "plt.plot(history.history['loss'], label='train')\n",
        "plt.plot(history.history['val_loss'], label='test')\n",
        "plt.legend()\n",
        "plt.show()"
      ],
      "metadata": {
        "colab": {
          "base_uri": "https://localhost:8080/",
          "height": 430
        },
        "id": "ItPlh5nZx_Ii",
        "outputId": "2c1ac865-eb9d-464b-8d89-6e4704748db1"
      },
      "execution_count": 42,
      "outputs": [
        {
          "output_type": "display_data",
          "data": {
            "text/plain": [
              "<Figure size 640x480 with 1 Axes>"
            ],
            "image/png": "[encoded data removed]"
          },
          "metadata": {}
        }
      ]
    },
    {
      "cell_type": "code",
      "source": [
        "plt.plot(history.history['accuracy'],label='accuracy')\n",
        "plt.plot(history.history['val_accuracy'],label='val_accuracy')\n",
        "plt.legend()\n",
        "plt.show()"
      ],
      "metadata": {
        "colab": {
          "base_uri": "https://localhost:8080/",
          "height": 430
        },
        "id": "5gMUUgd5u_nP",
        "outputId": "5302e55f-73aa-4269-c6ec-6b0e7525f639"
      },
      "execution_count": 45,
      "outputs": [
        {
          "output_type": "display_data",
          "data": {
            "text/plain": [
              "<Figure size 640x480 with 1 Axes>"
            ],
            "image/png": "[encoded data removed]"
          },
          "metadata": {}
        }
      ]
    },
    {
      "cell_type": "code",
      "source": [
        "plt.plot(history.history['loss'],label='loss')\n",
        "plt.plot(history.history['accuracy'],label='accuracy')\n",
        "plt.legend()\n",
        "plt.show()"
      ],
      "metadata": {
        "colab": {
          "base_uri": "https://localhost:8080/",
          "height": 430
        },
        "id": "VFro-xkRXTTS",
        "outputId": "d47ee3ed-17bf-4b60-afcb-72dbc97d921b"
      },
      "execution_count": 46,
      "outputs": [
        {
          "output_type": "display_data",
          "data": {
            "text/plain": [
              "<Figure size 640x480 with 1 Axes>"
            ],
            "image/png": "[encoded data removed]"
          },
          "metadata": {}
        }
      ]
    },
    {
      "cell_type": "code",
      "source": [
        "#Model Testing and Evaluation\n",
        "#save the tokenizer\n",
        "with open('xtokenizer.pickle', 'wb') as handle:\n",
        "    pickle.dump(x_tokenizer, handle, protocol=pickle.HIGHEST_PROTOCOL)\n",
        "\n",
        "with open('ytokenizer.pickle', 'wb') as handle:\n",
        "    pickle.dump(y_tokenizer, handle, protocol=pickle.HIGHEST_PROTOCOL)"
      ],
      "metadata": {
        "id": "RuVBDVAcyDKq"
      },
      "execution_count": 47,
      "outputs": []
    },
    {
      "cell_type": "code",
      "source": [
        "#Ready layers for prediction\n",
        "#set tokenizerz for predictions\n",
        "reverse_target_word_index = y_tokenizer.index_word\n",
        "reverse_source_word_index = x_tokenizer.index_word\n",
        "target_word_index = y_tokenizer.word_index"
      ],
      "metadata": {
        "id": "IeaonsKOyOGW"
      },
      "execution_count": 48,
      "outputs": []
    },
    {
      "cell_type": "code",
      "source": [
        "#define s single model for encoder\n",
        "encoder_model = Model(encoder_input, outputs=[encoder_output3, state_h3, state_c3])\n",
        "\n",
        "#---------- < DECODER > ----------\n",
        "#define inputs\n",
        "decoder_input_state_h = Input(shape=(LATENT_DIM, ))\n",
        "decoder_input_state_c = Input(shape=(LATENT_DIM, ))\n",
        "decoder_input_state_hidden = Input(shape=(MAX_TEXT_LEN, LATENT_DIM))\n",
        "\n",
        "#Embedding of the decoder\n",
        "decoder_embedding_pred = decoder_embed_layer(decoder_input)\n",
        "#Decoder LSTM (For making prediction, the state of the decoder should be set to the state of its previos time step)\n",
        "decoder_output_p, state_h_p, state_c_p = decoder_lstm(decoder_embedding_pred, initial_state=[decoder_input_state_h, decoder_input_state_c])\n",
        "\n",
        "#Attention\n",
        "attention_out_inference, attention_state_inference = attention_layer([decoder_input_state_hidden, decoder_output_p])\n",
        "decoder_concat = Concatenate(axis=-1, name=\"concat_attention\")([decoder_output_p, attention_out_inference])\n",
        "\n",
        "#Final prediction\n",
        "decoder_final_output = decoder_dense(decoder_concat)\n",
        "\n",
        "#make the final decoder model\n",
        "decoder_model = Model(\n",
        "    [decoder_input] + [decoder_input_state_hidden, decoder_input_state_h, decoder_input_state_c],\n",
        "    [decoder_final_output] + [state_h_p, state_c_p])"
      ],
      "metadata": {
        "id": "474KQeymyU5P"
      },
      "execution_count": 49,
      "outputs": []
    },
    {
      "cell_type": "code",
      "source": [
        "#Sequence decoding\n",
        "def sequence_decoder(input_sequence):\n",
        "    \"\"\"\n",
        "    This function decods the sequence predicted\n",
        "    \"\"\"\n",
        "    #encode the input\n",
        "    encoder_output, encoder_h, encoder_c = encoder_model.predict(input_sequence, verbose=None)\n",
        "    #Define an embpy target with it's first woed set to input sequence\n",
        "    target_sequence = np.zeros((1, 1))\n",
        "    target_sequence[0, 0] = target_word_index[\"soseq\"]\n",
        "\n",
        "    #define variables for when to stop and the decoded sentence\n",
        "    decoded_sentence = \"\"\n",
        "    stop = False\n",
        "\n",
        "    while not stop:\n",
        "        #when we did not reach the place to stop (eoseq), decode\n",
        "        output_token, h, c = decoder_model.predict([target_sequence] + [encoder_output, encoder_h, encoder_c], verbose=None)\n",
        "\n",
        "        #predict token\n",
        "        predicted_token_index = np.argmax(output_token[0, -1, :])\n",
        "        predicted_token = reverse_target_word_index[predicted_token_index]\n",
        "\n",
        "        #if the token was not end of sequence, continue and add the predicted token to the dcecoded sentence variable\n",
        "        if  predicted_token != \"eoseq\":\n",
        "            decoded_sentence += \" \" + predicted_token\n",
        "\n",
        "        #if we've reached eoseq token or reached the summary length limit, make the stop state true\n",
        "        if predicted_token == \"eoseq\" or len(decoded_sentence.split()) >= MAX_SUMMARY_LEN - 1:\n",
        "            stop = True\n",
        "\n",
        "        #update the target sequence\n",
        "        target_sequence = np.zeros((1,1))\n",
        "        target_sequence[0, 0] = predicted_token_index\n",
        "\n",
        "        #Update internal states\n",
        "        encoder_h, encoder_c = h, c\n",
        "\n",
        "    return decoded_sentence\n"
      ],
      "metadata": {
        "id": "eQh40IxoycBM"
      },
      "execution_count": 50,
      "outputs": []
    },
    {
      "cell_type": "code",
      "source": [
        "def sequence_to_summary(input_seuqnece):\n",
        "    \"\"\"\n",
        "    This function converts sequence into text (in this case summary)\n",
        "    \"\"\"\n",
        "    sentence = \"\"\n",
        "    #loop over the input sequence\n",
        "    for i in input_seuqnece:\n",
        "        if i != 0 and i != target_word_index[\"soseq\"] and i != target_word_index[\"eoseq\"]:\n",
        "            sentence = sentence + reverse_source_word_index[i] + \" \"\n",
        "\n",
        "    return sentence"
      ],
      "metadata": {
        "id": "7quqUdMpymtQ"
      },
      "execution_count": 51,
      "outputs": []
    },
    {
      "cell_type": "code",
      "source": [
        "def sequence_to_text(input_seuqnece):\n",
        "    \"\"\"\n",
        "    This function converts sequence into text (in this case text)\n",
        "    This function is going to be used only for testing the model on test data\n",
        "    \"\"\"\n",
        "    sentence = \"\"\n",
        "    #loop over the input sequence\n",
        "    for i in input_seuqnece:\n",
        "        if i != 0 :\n",
        "            sentence = sentence + reverse_source_word_index[i] + \" \"\n",
        "\n",
        "    return sentence"
      ],
      "metadata": {
        "id": "4KkLckm9yrV-"
      },
      "execution_count": 52,
      "outputs": []
    },
    {
      "cell_type": "code",
      "source": [
        "for i in range(5, 34):\n",
        "    print(\"Review:\", sequence_to_text(x_test[i]))\n",
        "    print(\"Original summary:\", sequence_to_summary(y_test[i]))\n",
        "    print(\"Predicted summary:\", sequence_decoder(x_test[i].reshape(1,MAX_TEXT_LEN)))\n",
        "    print(\"\\n\")"
      ],
      "metadata": {
        "colab": {
          "base_uri": "https://localhost:8080/"
        },
        "id": "8BJZN6DGyu5C",
        "outputId": "6cc62111-8bbf-422f-c74a-8a8f7f270040"
      },
      "execution_count": 53,
      "outputs": [
        {
          "output_type": "stream",
          "name": "stdout",
          "text": [
            "Review: blue icicle week daughter loves working every day good daughter turned year money program perfectly produced using shure icicle tell back computer shelf using computer sound icicle really good replace old tv commercial live live blue \n",
            "Original summary: great amazon \n",
            "Predicted summary:  great\n",
            "\n",
            "\n",
            "Review: salad seasoning simple extremely tasty enhances salad powering salty mildly seasoned packet goodness also addictive probably due msg add olive oil red wine vinegar mm cannot believe found cannot find mainstream supermarkets markets anymore \n",
            "Original summary: love cans \n",
            "Predicted summary:  great\n",
            "\n",
            "\n",
            "Review: always peet coffee lover switch brands weaver heart taste clean strong correct even packaging still caffeinated heart \n",
            "Original summary: glad best \n",
            "Predicted summary:  great\n",
            "\n",
            "\n",
            "Review: expected better premium maine chowder better say get less half price bad worth money \n",
            "Original summary: smooth maybe \n",
            "Predicted summary:  great\n",
            "\n",
            "\n",
            "Review: son made water half hour done appeared worse agreed sandwich using bread amazing apparently baking something great tangy flavor heavy fortunately lots meats since whole loaf within hour bread far sure delicious well \n",
            "Original summary: pack \n",
            "Predicted summary:  great\n",
            "\n",
            "\n",
            "Review: small chocolate cups specialty party item never able find past wanted amazon provides used called jello shots provide solid edible alternative small paper cups \n",
            "Original summary: tasting \n",
            "Predicted summary:  great\n",
            "\n",
            "\n",
            "Review: product works great hate spending money herbs use little rest go bad put herbs fresh weeks either bottom clearly labeled twist lock plug stays thing already paid money saved looks pretty cool fridge counter ready cook \n",
            "Original summary: stores one snack would snack \n",
            "Predicted summary:  great\n",
            "\n",
            "\n",
            "Review: looking probably already know like chips great deal problems going stale oz bags great size snack help avoid eating \n",
            "Original summary: nice \n",
            "Predicted summary:  great\n",
            "\n",
            "\n",
            "Review: love time tea used give children since caffeine free grew helped warm fall quickly little story small cup warm tea routine especially winter grown find serving children save effect still drink teas enjoy one little special \n",
            "Original summary: always time \n",
            "Predicted summary:  great\n",
            "\n",
            "\n",
            "Review: great snack dog food allergies chicken pound loves chew given highly recommend dog especially one food allergies \n",
            "Original summary: best definitely \n",
            "Predicted summary:  great\n",
            "\n",
            "\n",
            "Review: think great green tea powder add powder oz water bottle nice light taste prefer may add sweetner needed great price quantity quality product \n",
            "Original summary: great one first product looking real far perfect \n",
            "Predicted summary:  great\n",
            "\n",
            "\n",
            "Review: really good idea final product outstanding use car everybody asks bought made two thumbs \n",
            "Original summary: great amazon \n",
            "Predicted summary:  great\n",
            "\n",
            "\n",
            "Review: think hot cocoa taste great wife thinks watery wife big swiss miss drinker knows hot cocoa sure buy cost paying cups sometimes think better buying swiss miss packets use hot water cup machine \n",
            "Original summary: even chips find product might \n",
            "Predicted summary:  great\n",
            "\n",
            "\n",
            "Review: juice good like much tart price increase cheaper even subscribe save staple tart cherry juice \n",
            "Original summary: taste used \n",
            "Predicted summary:  great\n",
            "\n",
            "\n",
            "Review: excited try product reading good reviews really impressed son tried food consistency way thin son would hardly eat whole jar would recommend making baby food use gerber organic \n",
            "Original summary: flavor best bag amazon \n",
            "Predicted summary:  great\n",
            "\n",
            "\n",
            "Review: make wife goes work use flavored coffee machine hard flavored ground coffee reasonable price finding pound bag coffee bean direct excellent price flavor good also great choice grind coffee beans \n",
            "Original summary: best price \n",
            "Predicted summary:  great\n",
            "\n",
            "\n",
            "Review: bought christmas used work guy would bring still warm home roasted peanuts work left wanted try great minutes oven one stir done taste better grocery store peanuts ever could might shell try honey see lot people boil peanuts like see never tried \n",
            "Original summary: great \n",
            "Predicted summary:  great\n",
            "\n",
            "\n",
            "Review: got cup sampler best cup far like good strong coffee lot flavor slight hint cocoa bitter taste one goes top reorder list perfect cup system one reviewer post gave one star taste buds \n",
            "Original summary: reason \n",
            "Predicted summary:  great\n",
            "\n",
            "\n",
            "Review: got pack pretty good deal healthy baked chips usually buy taste great im fan pretty much sounds like chips popped instead baked air ounce bags slightly baked bags buying good buy get good deal like \n",
            "Original summary: taste give \n",
            "Predicted summary:  great\n",
            "\n",
            "\n",
            "Review: seems best brand tried others weak flavor one would truly recommend small children need hot chocolate enjoy \n",
            "Original summary: quite could dog \n",
            "Predicted summary:  great\n",
            "\n",
            "\n",
            "Review: like crackers much ordered different flavor crunchy satisfying put two crackers zip lock break bite sized pieces treat throughout day evening filling recommend however know well would go crisp seeds various sizes good find love \n",
            "Original summary: coffee \n",
            "Predicted summary:  great\n",
            "\n",
            "\n",
            "Review: chocolate cake fantastic reason think would well case dense tasteless totally unlike airy tasty chocolate want money back even chocolate cake mix \n",
            "Original summary: flavors cups \n",
            "Predicted summary:  great\n",
            "\n",
            "\n",
            "Review: trying every type cup get hands since got keurig christmas truly hate discovered one would though pretty difficult ruin hot chocolate people grove square certainly good job hot chocolate watery horrible plastic aftertaste also yuck \n",
            "Original summary: less \n",
            "Predicted summary:  great\n",
            "\n",
            "\n",
            "Review: could find extra key lime pie gum stores thought get everything amazon course delight gum love key lime pie like next best thing teeth creamy rich key lime tart delicious piece pie without calories \n",
            "Original summary: make came \n",
            "Predicted summary:  great\n",
            "\n",
            "\n",
            "Review: purchased oz bag realize ounces compared bags might perfect us bag potato chips cut might perfect kids \n",
            "Original summary: flavorful much also product butter \n",
            "Predicted summary:  great\n",
            "\n",
            "\n",
            "Review: good hot chocolate creamy tasty flavors good favorite peppermint wish peppermint available variety pack son also like add peppermint flavored extra shot peppermint taste opinion better swiss miss cups \n",
            "Original summary: make \n",
            "Predicted summary:  great\n",
            "\n",
            "\n",
            "Review: using spice mix many years found hard find lately decided would check amazon surprised see available fairly good cook easy dishes using mix unusual tasty pack lot spice keep years use quite often give family kick cajun seasoning \n",
            "Original summary: buy get great soft sweet one \n",
            "Predicted summary:  great\n",
            "\n",
            "\n",
            "Review: love coffee sure happened price lately used get exact product average dollars price buy product price \n",
            "Original summary: hot fresh \n",
            "Predicted summary:  great\n",
            "\n",
            "\n",
            "Review: best sauce market use almost food product especially good veggies \n",
            "Original summary: great amazon \n",
            "Predicted summary:  great\n",
            "\n",
            "\n"
          ]
        }
      ]
    }
  ]
}